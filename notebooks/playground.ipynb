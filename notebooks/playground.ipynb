{
 "cells": [
  {
   "cell_type": "markdown",
   "metadata": {},
   "source": [
    "# MAST30034_Applied Data Science_Project1"
   ]
  },
  {
   "cell_type": "markdown",
   "metadata": {},
   "source": [
    "## Import Libraries"
   ]
  },
  {
   "cell_type": "code",
   "execution_count": 16,
   "metadata": {},
   "outputs": [],
   "source": [
    "import os\n",
    "import zipfile\n",
    "from urllib.request import urlretrieve"
   ]
  },
  {
   "cell_type": "markdown",
   "metadata": {},
   "source": [
    "## Download Data"
   ]
  },
  {
   "cell_type": "markdown",
   "metadata": {},
   "source": [
    "Downlaod Yellow and Green Taxi data"
   ]
  },
  {
   "cell_type": "code",
   "execution_count": 3,
   "metadata": {},
   "outputs": [
    {
     "name": "stdout",
     "output_type": "stream",
     "text": [
      "Starting download for Yellow Taxi 2023-06\n",
      "Finished download for Yellow Taxi 2023-06\n",
      "Starting download for Yellow Taxi 2023-07\n",
      "Finished download for Yellow Taxi 2023-07\n",
      "Starting download for Yellow Taxi 2023-08\n",
      "Finished download for Yellow Taxi 2023-08\n",
      "Starting download for Yellow Taxi 2023-09\n",
      "Finished download for Yellow Taxi 2023-09\n",
      "Starting download for Yellow Taxi 2023-10\n",
      "Finished download for Yellow Taxi 2023-10\n",
      "Starting download for Yellow Taxi 2023-11\n",
      "Finished download for Yellow Taxi 2023-11\n",
      "Starting download for Yellow Taxi 2023-12\n",
      "Finished download for Yellow Taxi 2023-12\n",
      "Starting download for Green Taxi 2023-06\n",
      "Finished download for Green Taxi 2023-06\n",
      "Starting download for Green Taxi 2023-07\n",
      "Finished download for Green Taxi 2023-07\n",
      "Starting download for Green Taxi 2023-08\n",
      "Finished download for Green Taxi 2023-08\n",
      "Starting download for Green Taxi 2023-09\n",
      "Finished download for Green Taxi 2023-09\n",
      "Starting download for Green Taxi 2023-10\n",
      "Finished download for Green Taxi 2023-10\n",
      "Starting download for Green Taxi 2023-11\n",
      "Finished download for Green Taxi 2023-11\n",
      "Starting download for Green Taxi 2023-12\n",
      "Finished download for Green Taxi 2023-12\n"
     ]
    }
   ],
   "source": [
    "URL_TEMPLATES_TAXI = {\n",
    "    \"yellow\": \"https://d37ci6vzurychx.cloudfront.net/trip-data/yellow_tripdata_\",\n",
    "    \"green\": \"https://d37ci6vzurychx.cloudfront.net/trip-data/green_tripdata_\"\n",
    "}\n",
    "# CLear the month that we need  \n",
    "YEAR = ['2023']\n",
    "MONTH = range(6, 13)\n",
    "# The dictionary of data\n",
    "OUTPUT_DIRS_TAXI = {\n",
    "    \"yellow\": '../data/raw/NYCTLC_data/yellow_taxi',\n",
    "    \"green\": '../data/raw/NYCTLC_data/green_taxi'\n",
    "}\n",
    "\n",
    "# download the data\n",
    "for color in URL_TEMPLATES_TAXI:\n",
    "    for year in YEAR:\n",
    "        for month in MONTH:\n",
    "            month_str = str(month).zfill(2)\n",
    "            url = f'{URL_TEMPLATES_TAXI[color]}{year}-{month_str}.parquet'\n",
    "            output_dir = f'{OUTPUT_DIRS_TAXI[color]}/{year}'\n",
    "            os.makedirs(output_dir, exist_ok=True)\n",
    "            output_file = f'{output_dir}/{year}-{month_str}.parquet'\n",
    "            print(f'Starting download for {color.capitalize()} Taxi {year}-{month_str}')\n",
    "            urlretrieve(url, output_file)\n",
    "            print(f'Finished download for {color.capitalize()} Taxi {year}-{month_str}')\n"
   ]
  },
  {
   "cell_type": "markdown",
   "metadata": {},
   "source": [
    "Download the external data"
   ]
  },
  {
   "cell_type": "code",
   "execution_count": 12,
   "metadata": {},
   "outputs": [],
   "source": [
    "# the function use to download the external data\n",
    "def download_data_url(url, output_dir, filename):\n",
    "    os.makedirs(output_dir, exist_ok=True)\n",
    "    file_path = os.path.join(output_dir, filename)\n",
    "\n",
    "    print('Starting download for data...')\n",
    "    try:\n",
    "        urlretrieve(url, file_path)\n",
    "        print(f'Finished download for data, saved to {file_path}')\n",
    "        return file_path\n",
    "    except Exception as e:\n",
    "        print(f'Failed to download the data: {e}')\n",
    "        return None"
   ]
  },
  {
   "cell_type": "code",
   "execution_count": 13,
   "metadata": {},
   "outputs": [
    {
     "name": "stdout",
     "output_type": "stream",
     "text": [
      "Starting download for data...\n",
      "Finished download for data, saved to ../data/raw/external_data/weather_raw_data.csv\n"
     ]
    }
   ],
   "source": [
    "# Download the New York weather data\n",
    "URL_TEMPLATES_WEATHER = 'https://weather.visualcrossing.com/VisualCrossingWebServices/rest/services/retrievebulkdataset?&key=9E8LQXNKLTXT965BD8YPMRU9T&taskId=c89bab1b7cd69325cba4667de1dc83ca&zip=false'\n",
    "OUTPUT_DIRS_WEATHER = '../data/raw/external_data'\n",
    "FILENAME = 'weather_raw_data.csv'\n",
    "\n",
    "downloaded_file = download_data_url(URL_TEMPLATES_WEATHER, OUTPUT_DIRS_WEATHER, FILENAME)"
   ]
  },
  {
   "cell_type": "code",
   "execution_count": 19,
   "metadata": {},
   "outputs": [
    {
     "name": "stdout",
     "output_type": "stream",
     "text": [
      "Starting download for data...\n",
      "Finished download for data, saved to ../data/raw/external_data/cityBike_data/citybike_raw_data.zip\n"
     ]
    }
   ],
   "source": [
    "# Download the New York citybike data\n",
    "URL_TEMPLATES_CITYBIKE = 'https://s3.amazonaws.com/tripdata/2023-citibike-tripdata.zip'\n",
    "OUTPUT_DIRS_CITYBIKE = '../data/raw/external_data/cityBike_data'\n",
    "FILENAME = 'citybike_raw_data.zip'\n",
    "downloaded_file = download_data_url(URL_TEMPLATES_CITYBIKE, OUTPUT_DIRS_CITYBIKE, FILENAME)"
   ]
  },
  {
   "cell_type": "markdown",
   "metadata": {},
   "source": [
    "Unzip the data of citybike"
   ]
  },
  {
   "cell_type": "code",
   "execution_count": 23,
   "metadata": {},
   "outputs": [],
   "source": [
    "# the function use to unzip the data\n",
    "def unzip_file(zip_file_path, extract_dir):\n",
    "    os.makedirs(extract_dir, exist_ok=True)\n",
    "    print(f'Starting to unzip {zip_file_path}...')\n",
    "    with zipfile.ZipFile(zip_file_path, 'r') as zip_ref:\n",
    "        zip_ref.extractall(extract_dir)\n",
    "    print(f'Finished unzipping, files extracted to {extract_dir}')"
   ]
  },
  {
   "cell_type": "code",
   "execution_count": 29,
   "metadata": {},
   "outputs": [
    {
     "name": "stdout",
     "output_type": "stream",
     "text": [
      "Starting to unzip ../data/raw/external_data/cityBike_data/2023-citibike-tripdata.zip...\n",
      "Finished unzipping, files extracted to ../data/raw/external_data/cityBike_data\n"
     ]
    }
   ],
   "source": [
    "# unzip the data file of 2023\n",
    "citybike_zip = '../data/raw/external_data/cityBike_data/2023-citibike-tripdata.zip'\n",
    "citybike_unzip = '../data/raw/external_data/cityBike_data'\n",
    "unzip_file(citybike_zip, citybike_unzip)"
   ]
  },
  {
   "cell_type": "code",
   "execution_count": 33,
   "metadata": {},
   "outputs": [
    {
     "name": "stdout",
     "output_type": "stream",
     "text": [
      "Starting to unzip ../data/raw/external_data/cityBike_data/2023-citibike-tripdata/202306-citibike-tripdata.zip...\n",
      "Finished unzipping, files extracted to ../data/raw/external_data/cityBike_data/citybike_raw_data\n",
      "Starting to unzip ../data/raw/external_data/cityBike_data/2023-citibike-tripdata/202307-citibike-tripdata.zip...\n",
      "Finished unzipping, files extracted to ../data/raw/external_data/cityBike_data/citybike_raw_data\n",
      "Starting to unzip ../data/raw/external_data/cityBike_data/2023-citibike-tripdata/202308-citibike-tripdata.zip...\n",
      "Finished unzipping, files extracted to ../data/raw/external_data/cityBike_data/citybike_raw_data\n",
      "Starting to unzip ../data/raw/external_data/cityBike_data/2023-citibike-tripdata/202309-citibike-tripdata.zip...\n",
      "Finished unzipping, files extracted to ../data/raw/external_data/cityBike_data/citybike_raw_data\n",
      "Starting to unzip ../data/raw/external_data/cityBike_data/2023-citibike-tripdata/202310-citibike-tripdata.zip...\n",
      "Finished unzipping, files extracted to ../data/raw/external_data/cityBike_data/citybike_raw_data\n",
      "Starting to unzip ../data/raw/external_data/cityBike_data/2023-citibike-tripdata/202311-citibike-tripdata.zip...\n",
      "Finished unzipping, files extracted to ../data/raw/external_data/cityBike_data/citybike_raw_data\n",
      "Starting to unzip ../data/raw/external_data/cityBike_data/2023-citibike-tripdata/202312-citibike-tripdata.zip...\n",
      "Finished unzipping, files extracted to ../data/raw/external_data/cityBike_data/citybike_raw_data\n"
     ]
    }
   ],
   "source": [
    "# get the csv data of 2023.06-12(We only need the )\n",
    "citybike_file_zip = '../data/raw/external_data/cityBike_data/2023-citibike-tripdata'\n",
    "citybike_file_unzip = '../data/raw/external_data/cityBike_data/citybike_raw_data'\n",
    "for month in range(6, 13):\n",
    "    zip_filename = f'2023{month:02d}-citibike-tripdata.zip'\n",
    "    zip_file_path = os.path.join(citybike_file_zip, zip_filename)\n",
    "    os.path.exists(zip_file_path)\n",
    "    unzip_file(zip_file_path, citybike_file_unzip)"
   ]
  }
 ],
 "metadata": {
  "kernelspec": {
   "display_name": "base",
   "language": "python",
   "name": "python3"
  },
  "language_info": {
   "codemirror_mode": {
    "name": "ipython",
    "version": 3
   },
   "file_extension": ".py",
   "mimetype": "text/x-python",
   "name": "python",
   "nbconvert_exporter": "python",
   "pygments_lexer": "ipython3",
   "version": "3.11.5"
  }
 },
 "nbformat": 4,
 "nbformat_minor": 2
}
